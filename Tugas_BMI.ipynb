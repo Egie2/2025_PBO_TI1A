{
  "nbformat": 4,
  "nbformat_minor": 0,
  "metadata": {
    "colab": {
      "provenance": [],
      "include_colab_link": true
    },
    "kernelspec": {
      "name": "python3",
      "display_name": "Python 3"
    },
    "language_info": {
      "name": "python"
    }
  },
  "cells": [
    {
      "cell_type": "markdown",
      "metadata": {
        "id": "view-in-github",
        "colab_type": "text"
      },
      "source": [
        "<a href=\"https://colab.research.google.com/github/Egie2/2025_PBO_TI1A/blob/main/Tugas_BMI.ipynb\" target=\"_parent\"><img src=\"https://colab.research.google.com/assets/colab-badge.svg\" alt=\"Open In Colab\"/></a>"
      ]
    },
    {
      "cell_type": "code",
      "execution_count": null,
      "metadata": {
        "colab": {
          "base_uri": "https://localhost:8080/"
        },
        "id": "sc0bC_BeCEGV",
        "outputId": "849fcf09-7760-42ad-c6df-1405c9c2154c"
      },
      "outputs": [
        {
          "name": "stdout",
          "output_type": "stream",
          "text": [
            "Program Menentukan Kategori BMI\n",
            "Masukkan berat (kg): 58\n",
            "Masukkan tinggi (cm): 160\n"
          ]
        }
      ],
      "source": [
        "\n",
        "print(\"Program Menentukan Kategori BMI\")\n",
        "\n",
        "berat = float(input(\"Masukkan berat (kg): \"))\n",
        "tinggi_cm = float(input(\"Masukkan tinggi (cm): \"))"
      ]
    },
    {
      "cell_type": "code",
      "source": [
        "#Menghitung Nilai BMI berdasarkan hasil Input\n",
        "tinggi = tinggi_cm / 100\n",
        "bmi = berat / (tinggi ** 2)"
      ],
      "metadata": {
        "id": "OFPTIP0JCN3p"
      },
      "execution_count": null,
      "outputs": []
    },
    {
      "cell_type": "code",
      "source": [
        "\n",
        "if bmi < 18.5:\n",
        "    kategori = \"Underweight\"\n",
        "elif bmi >= 18.5 and bmi < 25:\n",
        "    kategori = \"Normal\"\n",
        "elif bmi >= 25 and bmi < 30:\n",
        "    if bmi < 27:\n",
        "        kategori = \"Overweight ringan\"\n",
        "    else:\n",
        "        kategori = \"Overweight\"\n",
        "else:\n",
        "    if bmi >= 30 and bmi < 35:\n",
        "        kategori = \"Obesitas Kelas I\"\n",
        "    elif bmi >= 35 and bmi < 40:\n",
        "        kategori = \"Obesitas Kelas II\"\n",
        "    else:\n",
        "        kategori = \"Obesitas Kelas III\""
      ],
      "metadata": {
        "id": "DFSO99ISCSHn"
      },
      "execution_count": null,
      "outputs": []
    },
    {
      "cell_type": "code",
      "source": [
        "#Print Hasil\n",
        "print(\"BMI Anda =\", round(bmi, 2))\n",
        "print(\"Kategori =\", kategori)\n"
      ],
      "metadata": {
        "colab": {
          "base_uri": "https://localhost:8080/"
        },
        "id": "atwr0yU8CVrr",
        "outputId": "3a0ba466-590a-4bf6-8a66-da7511af0d7d"
      },
      "execution_count": null,
      "outputs": [
        {
          "output_type": "stream",
          "name": "stdout",
          "text": [
            "BMI Anda = 22.66\n",
            "Kategori = Normal\n"
          ]
        }
      ]
    }
  ]
}