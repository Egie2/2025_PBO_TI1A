{
  "nbformat": 4,
  "nbformat_minor": 0,
  "metadata": {
    "colab": {
      "provenance": [],
      "authorship_tag": "ABX9TyN0+KASQL++mjmzp9NAoU/1",
      "include_colab_link": true
    },
    "kernelspec": {
      "name": "python3",
      "display_name": "Python 3"
    },
    "language_info": {
      "name": "python"
    }
  },
  "cells": [
    {
      "cell_type": "markdown",
      "metadata": {
        "id": "view-in-github",
        "colab_type": "text"
      },
      "source": [
        "<a href=\"https://colab.research.google.com/github/Egie2/2025_PBO_TI1A/blob/main/jobsheet%202.ipynb\" target=\"_parent\"><img src=\"https://colab.research.google.com/assets/colab-badge.svg\" alt=\"Open In Colab\"/></a>"
      ]
    },
    {
      "cell_type": "markdown",
      "source": [
        "Pratikum 1"
      ],
      "metadata": {
        "id": "7BykyR1DwWkX"
      }
    },
    {
      "cell_type": "code",
      "source": [
        "# Fungsi Built-in\n",
        "# Fungsi print() adalah contoh fungsi built-in untuk mencetak output\n",
        "print(\"Ini adalah contoh fungsi built-in\")"
      ],
      "metadata": {
        "colab": {
          "base_uri": "https://localhost:8080/"
        },
        "id": "0_uHBa1xshGp",
        "outputId": "700a6b3e-6407-47c6-c8ed-bdffeac05e60"
      },
      "execution_count": 2,
      "outputs": [
        {
          "output_type": "stream",
          "name": "stdout",
          "text": [
            "Ini adalah contoh fungsi built-in\n"
          ]
        }
      ]
    },
    {
      "cell_type": "code",
      "source": [
        "# Fungsi len() adalah contoh fungsi built-in untuk menghitung panjang suatu objek\n",
        "kata = \"Pemrograman\"\n",
        "panjang_kata = len(kata)\n",
        "print(f\"Panjang kata '{kata}' adalah: {panjang_kata}\")"
      ],
      "metadata": {
        "id": "-fXBLA8LuiCA",
        "outputId": "bd4a278a-4aca-4381-c371-cdfbd603728f",
        "colab": {
          "base_uri": "https://localhost:8080/"
        }
      },
      "execution_count": 3,
      "outputs": [
        {
          "output_type": "stream",
          "name": "stdout",
          "text": [
            "Panjang kata 'Pemrograman' adalah: 11\n"
          ]
        }
      ]
    },
    {
      "cell_type": "code",
      "source": [
        "# Fungsi max() adalah contoh fungsi built-in untuk mencari nilai maksimum dari sebuah daftar\n",
        "angka = [10, 5, 30, 40, 25]\n",
        "nilai_max = max(angka)\n",
        "print(f\"Nilai maksimum dalam daftar {angka} adalah: {nilai_max}\")"
      ],
      "metadata": {
        "id": "hfNekekYumu3",
        "outputId": "1f18265c-cc54-497f-807c-a72b7a0eba33",
        "colab": {
          "base_uri": "https://localhost:8080/"
        }
      },
      "execution_count": 6,
      "outputs": [
        {
          "output_type": "stream",
          "name": "stdout",
          "text": [
            "Nilai maksimum dalam daftar [10, 5, 30, 40, 25] adalah: 40\n"
          ]
        }
      ]
    },
    {
      "cell_type": "code",
      "source": [
        "# Fungsi User-Defined\n",
        "# Fungsi dengan satu parameter (Menerima satu nilai input)\n",
        "def cetak_kuadrat(angka):\n",
        "    # Menghitung kuadrat dari angka yang diterima sebagai parameter\n",
        " print(f\"Kuadrat dari {angka} adalah: {angka ** 2}\")"
      ],
      "metadata": {
        "id": "-YkaASmNu-oJ"
      },
      "execution_count": 11,
      "outputs": []
    },
    {
      "cell_type": "code",
      "source": [
        "# Fungsi dengan beberapa parameter (Menerima lebih dari satu nilai input)\n",
        "def hitung_luas_persegi_panjang(panjang, lebar):\n",
        "    # Menghitung luas persegi panjang\n",
        "    return panjang * lebar"
      ],
      "metadata": {
        "id": "CeVX3qURvyGc"
      },
      "execution_count": 12,
      "outputs": []
    },
    {
      "cell_type": "code",
      "source": [
        "# Fungsi dengan beberapa tipe parameter (Menerima berbagai jenis data)\n",
        "def info_mahasiswa(nama, umur, ipk):\n",
        "    # Mencetak informasi mahasiswa\n",
        "    print(f\"Nama: {nama}, Umur: {umur}, IPK: {ipk}\")"
      ],
      "metadata": {
        "id": "gdyMOOEAwAsu"
      },
      "execution_count": 13,
      "outputs": []
    },
    {
      "cell_type": "code",
      "source": [
        "# Fungsi tanpa return value (Non-return value)\n",
        "def sapa_pengguna(nama):\n",
        "    # Fungsi ini hanya mencetak sapaan tanpa mengembalikan nilai\n",
        "    print(f\"Halo, {nama}! Selamat datang di dunia Python.\")"
      ],
      "metadata": {
        "id": "j-h2XkeRwNJ8"
      },
      "execution_count": 14,
      "outputs": []
    },
    {
      "cell_type": "code",
      "source": [
        "# Fungsi dengan return value\n",
        "def hitung_keliling_persegi(sisi):\n",
        "    # Mengembalikan keliling persegi 39:\n",
        "    return 4 * sisi"
      ],
      "metadata": {
        "id": "shsATO6cwVnn"
      },
      "execution_count": 15,
      "outputs": []
    },
    {
      "cell_type": "code",
      "source": [
        "# Pemanggilan fungsi dengan satu parameter 42: cetak_kuadrat(5)"
      ],
      "metadata": {
        "id": "2c-sHs38wji_"
      },
      "execution_count": 16,
      "outputs": []
    },
    {
      "cell_type": "code",
      "source": [
        "# Pemanggilan fungsi dengan beberapa parameter\n",
        "luas = hitung_luas_persegi_panjang(10, 5)\n",
        "print(f\"Luas persegi panjang: {luas}\")"
      ],
      "metadata": {
        "id": "MmoJ7YuKwouL",
        "outputId": "9951645a-2c6b-4e1d-a9d8-0d76e713d321",
        "colab": {
          "base_uri": "https://localhost:8080/"
        }
      },
      "execution_count": 17,
      "outputs": [
        {
          "output_type": "stream",
          "name": "stdout",
          "text": [
            "Luas persegi panjang: 50\n"
          ]
        }
      ]
    },
    {
      "cell_type": "code",
      "source": [
        "# Pemanggilan fungsi dengan beberapa tipe parameter\n",
        "info_mahasiswa(\"Budi\", 22, 3.8)"
      ],
      "metadata": {
        "id": "UboGfO0dwuok",
        "outputId": "5e6275bd-a59d-4072-c4f0-9fdcfb1e46d6",
        "colab": {
          "base_uri": "https://localhost:8080/"
        }
      },
      "execution_count": 18,
      "outputs": [
        {
          "output_type": "stream",
          "name": "stdout",
          "text": [
            "Nama: Budi, Umur: 22, IPK: 3.8\n"
          ]
        }
      ]
    },
    {
      "cell_type": "code",
      "source": [
        " #Pemanggilan fungsi tanpa return value\n",
        " sapa_pengguna(\"Andi\")"
      ],
      "metadata": {
        "id": "0fWho-7Mw5tD",
        "outputId": "e326edc2-ad18-4576-9f46-df0c7e3ce04c",
        "colab": {
          "base_uri": "https://localhost:8080/"
        }
      },
      "execution_count": 20,
      "outputs": [
        {
          "output_type": "stream",
          "name": "stdout",
          "text": [
            "Halo, Andi! Selamat datang di dunia Python.\n"
          ]
        }
      ]
    },
    {
      "cell_type": "code",
      "source": [
        "# Pemanggilan fungsi dengan return value\n",
        "keliling = hitung_keliling_persegi(5)\n",
        "print(f\"Keliling persegi dengan sisi 5 adalah: {keliling}\")"
      ],
      "metadata": {
        "id": "WqB432WtyBMq",
        "outputId": "d4c3b9c7-c66e-432b-f2a9-24bdf3a9b043",
        "colab": {
          "base_uri": "https://localhost:8080/"
        }
      },
      "execution_count": 21,
      "outputs": [
        {
          "output_type": "stream",
          "name": "stdout",
          "text": [
            "Keliling persegi dengan sisi 5 adalah: 20\n"
          ]
        }
      ]
    },
    {
      "cell_type": "markdown",
      "source": [
        "pratikum 2"
      ],
      "metadata": {
        "id": "zrD909WkyMQW"
      }
    },
    {
      "cell_type": "code",
      "source": [],
      "metadata": {
        "id": "YPtYKEhzyOXV"
      },
      "execution_count": 23,
      "outputs": []
    },
    {
      "cell_type": "code",
      "source": [
        "# File utama main.py yang mengimpor modul geometri.py\n",
        "\n",
        "# Mengimpor modul geometri 04: import geometri\n",
        "import geometri\n",
        "\n",
        "def main():\n",
        "    # Menggunakan fungsi dari modul meong\n",
        "    luas_persegi = geometri.hitung_luas_persegi(5)\n",
        "    print(f\"Luas persegi dengan sisi 5 adalah: {luas_persegi}\")\n",
        "\n",
        "    luas_persegi_panjang = geometri.hitung_luas_persegi_panjang(10, 5)\n",
        "    print(f\"Luas persegi panjang dengan panjang 10 dan lebar 5 adalah:{luas_persegi_panjang}\")\n",
        "\n",
        "    luas_lingkaran = geometri.hitung_luas_lingkaran(7)\n",
        "    print(f\"Luas lingkaran dengan jari-jari 7 adalah: {luas_lingkaran}\")\n",
        "\n",
        "if __name__ == \"__main__\":\n",
        "   main()\n"
      ],
      "metadata": {
        "id": "bQ-lbPqezJCM",
        "outputId": "75275321-9b4d-499a-9d11-1b8c71c3663b",
        "colab": {
          "base_uri": "https://localhost:8080/"
        }
      },
      "execution_count": 34,
      "outputs": [
        {
          "output_type": "stream",
          "name": "stdout",
          "text": [
            "Luas persegi dengan sisi 5 adalah: 25\n",
            "Luas persegi panjang dengan panjang 10 dan lebar 5 adalah:50\n",
            "Luas lingkaran dengan jari-jari 7 adalah: 153.86\n"
          ]
        }
      ]
    },
    {
      "cell_type": "markdown",
      "source": [
        "pratikum 3"
      ],
      "metadata": {
        "id": "zrg1UCAu3jFB"
      }
    },
    {
      "cell_type": "code",
      "source": [
        "# Kelas Buku untuk merepresentasikan buku di perpustakaan"
      ],
      "metadata": {
        "id": "zVYRVqXH3n0_"
      },
      "execution_count": 50,
      "outputs": []
    },
    {
      "cell_type": "code",
      "source": [
        "class Buku:\n",
        "  def __init__(self, judul, pengarang, tahun_terbit):\n",
        "      self.judul = judul\n",
        "      self.pengarang = pengarang\n",
        "      self.tahun_terbit = tahun_terbit\n",
        "      self.status = \"Tersedia\" # Status buku, default adalah Tersedia 08:\n",
        "\n",
        "  def tampilkan_info(self):\n",
        "      print(f\"Judul: {self.judul}\")\n",
        "      print(f\"Pengarang: {self.pengarang}\")\n",
        "      print(f\"Tahun Terbit: {self.tahun_terbit}\")\n",
        "      print(f\"Status: {self.status}\")\n",
        "\n",
        "  def pinjam(self):\n",
        "      if self.status == \"Tersedia\":\n",
        "        self.status = \"Dipinjam\"\n",
        "        print(f\"Buku '{self.judul}' telah dipinjam.\")\n",
        "      else:\n",
        "          print(f\"Buku '{self.judul}' sedang dipinjam.\")\n",
        "\n",
        "  def kembalikan(self):\n",
        "      if self.status == \"Dipinjam\":\n",
        "        self.status = \"Tersedia\"\n",
        "        print(f\"Buku '{self.judul}' telah dikembalikan.\")\n",
        "      else:\n",
        "          print(f\"Buku '{self.judul}' tidak sedang dipinjam.\")"
      ],
      "metadata": {
        "id": "cIcy8JGE4lSg"
      },
      "execution_count": 48,
      "outputs": []
    },
    {
      "cell_type": "code",
      "source": [
        "# Membuat objek dari kelas Buku\n",
        "buku1 = Buku(\"Pemrograman Python\", \"John Doe\", 2021)\n",
        "buku2 = Buku(\"Data Science untuk Pemula\", \"Jane Smith\", 2020)"
      ],
      "metadata": {
        "id": "QWK6eaLp9LX3"
      },
      "execution_count": 49,
      "outputs": []
    },
    {
      "cell_type": "code",
      "source": [
        "# Menggunakan metode objek Buku\n",
        "buku1.tampilkan_info()\n",
        "buku2.pinjam()"
      ],
      "metadata": {
        "id": "eTvln_vKIP9h",
        "outputId": "fb2da564-f3cd-4c88-f624-77bb97867f07",
        "colab": {
          "base_uri": "https://localhost:8080/"
        }
      },
      "execution_count": 51,
      "outputs": [
        {
          "output_type": "stream",
          "name": "stdout",
          "text": [
            "Judul: Pemrograman Python\n",
            "Pengarang: John Doe\n",
            "Tahun Terbit: 2021\n",
            "Status: Tersedia\n",
            "Buku 'Data Science untuk Pemula' telah dipinjam.\n"
          ]
        }
      ]
    },
    {
      "cell_type": "code",
      "source": [
        "# Mengubah status buku dan menampilkan informasi\n",
        "buku2.kembalikan()\n",
        "buku1.pinjam()\n",
        "buku1.tampilkan_info()\n",
        "# Kelas Mahasiswa untuk merepresentasikan Mahasiswa dalam kelas"
      ],
      "metadata": {
        "id": "RFnHgdp1MT-z",
        "outputId": "5a93f807-af0f-42c8-b866-1dd2a0ae8725",
        "colab": {
          "base_uri": "https://localhost:8080/"
        }
      },
      "execution_count": 52,
      "outputs": [
        {
          "output_type": "stream",
          "name": "stdout",
          "text": [
            "Buku 'Data Science untuk Pemula' telah dikembalikan.\n",
            "Buku 'Pemrograman Python' telah dipinjam.\n",
            "Judul: Pemrograman Python\n",
            "Pengarang: John Doe\n",
            "Tahun Terbit: 2021\n",
            "Status: Dipinjam\n"
          ]
        }
      ]
    },
    {
      "cell_type": "code",
      "source": [
        "# Definisi kelas 46:\n",
        "class Mahasiswa:\n",
        "        # Konstruktor (__init__) untuk menginisialisasi atribut objek\n",
        "        def __init__(self, nama, nim, umur):\n",
        "            self.nama = nama  # Atribut objek nama\n",
        "            self.nim = nim    # Atribut objek nim\n",
        "            self.umur = umur  # Atribut objek umur\n",
        "\n",
        "        # Metode untuk menampilkan informasi mahasiswa\n",
        "        def tampilkan_info(self):\n",
        "            print(f\"Nama: {self.nama}\")\n",
        "            print(f\"NIM: {self.nim}\")\n",
        "            print(f\"Umur: {self.umur} tahun\")\n",
        "\n",
        "        # Metode untuk merubah umur mahasiswa\n",
        "        def ubah_umur(self, umur_baru):\n",
        "            self.umur = umur_baru"
      ],
      "metadata": {
        "id": "bCFsviXeMiCp"
      },
      "execution_count": 61,
      "outputs": []
    },
    {
      "cell_type": "code",
      "source": [
        "# Membuat objek (instance) dari kelas Mahasiswa\n",
        "mahasiswa1 = Mahasiswa(\"Andi\", \"12345\", 20)\n",
        "mahasiswa2 = Mahasiswa(\"Budi\", \"67890\", 22)"
      ],
      "metadata": {
        "id": "kIoFGQ3jOXNh"
      },
      "execution_count": 62,
      "outputs": []
    },
    {
      "cell_type": "code",
      "source": [
        "# Menggunakan metode dari kelas Mahasiswa\n",
        "mahasiswa1.tampilkan_info()\n",
        "print()\n",
        "# Baris kosong\n",
        "mahasiswa2.tampilkan_info()"
      ],
      "metadata": {
        "id": "1HO8rdFeQBmc",
        "outputId": "8aec4c69-59dd-4a4d-d404-a46a061be768",
        "colab": {
          "base_uri": "https://localhost:8080/"
        }
      },
      "execution_count": 65,
      "outputs": [
        {
          "output_type": "stream",
          "name": "stdout",
          "text": [
            "Nama: Andi\n",
            "NIM: 12345\n",
            "Umur: 20 tahun\n",
            "\n",
            "Nama: Budi\n",
            "NIM: 67890\n",
            "Umur: 22 tahun\n"
          ]
        }
      ]
    },
    {
      "cell_type": "code",
      "source": [
        "# Mengubah umur mahasiswa1 menggunakan metode ubah_umur\n",
        "mahasiswa1.ubah_umur(21)"
      ],
      "metadata": {
        "id": "Oo-3jBKqq2X8"
      },
      "execution_count": null,
      "outputs": []
    }
  ]
}