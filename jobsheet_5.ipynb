{
  "nbformat": 4,
  "nbformat_minor": 0,
  "metadata": {
    "colab": {
      "provenance": [],
      "authorship_tag": "ABX9TyNUsrYYywbzjMxIPAss97dN",
      "include_colab_link": true
    },
    "kernelspec": {
      "name": "python3",
      "display_name": "Python 3"
    },
    "language_info": {
      "name": "python"
    }
  },
  "cells": [
    {
      "cell_type": "markdown",
      "metadata": {
        "id": "view-in-github",
        "colab_type": "text"
      },
      "source": [
        "<a href=\"https://colab.research.google.com/github/Egie2/2025_PBO_TI1A/blob/main/jobsheet_5.ipynb\" target=\"_parent\"><img src=\"https://colab.research.google.com/assets/colab-badge.svg\" alt=\"Open In Colab\"/></a>"
      ]
    },
    {
      "cell_type": "markdown",
      "source": [
        "pratikum 1"
      ],
      "metadata": {
        "id": "HQTjRs1-0xDz"
      }
    },
    {
      "cell_type": "code",
      "execution_count": 1,
      "metadata": {
        "colab": {
          "base_uri": "https://localhost:8080/"
        },
        "id": "-1-nOuwp0oZu",
        "outputId": "08304e46-b303-41bb-e144-1f16e3cda292"
      },
      "outputs": [
        {
          "output_type": "stream",
          "name": "stdout",
          "text": [
            "\n",
            "Aksi Burung:\n",
            "-- Aksi untuk Elang Jawa --\n",
            "Elang Jawa terbang tinggi melayang di angkasa.\n",
            "Elang Jawa berteriak nyaring!\n",
            "---------------\n",
            "-- Aksi untuk Pipit Gereja --\n",
            "Pipit Gereja terbang cepat di antara pepohonan.\n",
            "Pipit Gereja berkicau merdu: Cit cit!\n",
            "---------------\n",
            "-- Aksi untuk Burung Misterius --\n",
            "Burung Misterius terbang dengan cara umum.\n",
            "Burung Misterius mengeluarkan suara burung.\n",
            "---------------\n"
          ]
        }
      ],
      "source": [
        "class Burung:\n",
        "    def __init__(self, nama):\n",
        "        self.nama = nama\n",
        "\n",
        "    def terbang(self):\n",
        "        print(f\"{self.nama} terbang dengan cara umum.\")\n",
        "\n",
        "    def bersuara(self):\n",
        "        print(f\"{self.nama} mengeluarkan suara burung.\")\n",
        "\n",
        "class Elang(Burung):\n",
        "    def __init__(self, nama, rentang_sayap):\n",
        "        super().__init__(nama)\n",
        "        self.rentang_sayap = rentang_sayap\n",
        "\n",
        "    def terbang(self):\n",
        "        print(f\"{self.nama} terbang tinggi melayang di angkasa.\")\n",
        "\n",
        "    def bersuara(self):\n",
        "        print(f\"{self.nama} berteriak nyaring!\")\n",
        "\n",
        "class Pipit(Burung):\n",
        "    def __init__(self, nama, warna_bulu):\n",
        "        super().__init__(nama)\n",
        "        self.warna_bulu = warna_bulu\n",
        "\n",
        "    def terbang(self):\n",
        "        print(f\"{self.nama} terbang cepat di antara pepohonan.\")\n",
        "\n",
        "    def bersuara(self):\n",
        "        print(f\"{self.nama} berkicau merdu: Cit cit!\")\n",
        "\n",
        "def demonstrasi_aksi_burung(daftar_burung):\n",
        "    print(\"\\nAksi Burung:\")\n",
        "    for burung in daftar_burung:\n",
        "        print(f\"-- Aksi untuk {burung.nama} --\")\n",
        "        burung.terbang()\n",
        "        burung.bersuara()\n",
        "        print(\"-\" * 15)\n",
        "\n",
        "if __name__ == \"__main__\":\n",
        "    elang_jawa = Elang(\"Elang Jawa\", 1.5)\n",
        "    pipit_gereja = Pipit(\"Pipit Gereja\", \"Coklat\")\n",
        "    burung_aneh = Burung(\"Burung Misterius\")\n",
        "    koleksi_burung = [elang_jawa, pipit_gereja, burung_aneh]\n",
        "    demonstrasi_aksi_burung(koleksi_burung)\n"
      ]
    },
    {
      "cell_type": "markdown",
      "source": [
        "pratikum 2"
      ],
      "metadata": {
        "id": "ARfEXLtq06y-"
      }
    },
    {
      "cell_type": "code",
      "source": [
        "class Kucing:\n",
        "    def bersuara(self):\n",
        "        print(\"Kucing: Meow!\")\n",
        "\n",
        "class Anjing:\n",
        "    def bersuara(self):\n",
        "        print(\"Anjing: Guk guk!\")\n",
        "\n",
        "class Bebek:\n",
        "    def bersuara(self):\n",
        "        print(\"Bebek: Kwek kwek!\")\n",
        "\n",
        "class Mobil:\n",
        "    def jalankan(self):\n",
        "        print(\"Mobil: Brummm!\")\n",
        "\n",
        "def buat_suara(objek_yang_bisa_bersuara):\n",
        "    try:\n",
        "        objek_yang_bisa_bersuara.bersuara()\n",
        "    except AttributeError:\n",
        "        print(f\"Objek {type(objek_yang_bisa_bersuara).__name__} tidak bisa bersuara.\")\n",
        "\n",
        "if __name__ == \"__main__\":\n",
        "    daftar_objek = [Kucing(), Anjing(), Bebek(), Mobil()]\n",
        "    for item in daftar_objek:\n",
        "        buat_suara(item)\n"
      ],
      "metadata": {
        "colab": {
          "base_uri": "https://localhost:8080/"
        },
        "id": "MkuPn9b81CcU",
        "outputId": "660142a8-7943-4251-ed71-bf7dc8db1c30"
      },
      "execution_count": 2,
      "outputs": [
        {
          "output_type": "stream",
          "name": "stdout",
          "text": [
            "Kucing: Meow!\n",
            "Anjing: Guk guk!\n",
            "Bebek: Kwek kwek!\n",
            "Objek Mobil tidak bisa bersuara.\n"
          ]
        }
      ]
    },
    {
      "cell_type": "markdown",
      "source": [
        "pratikum 3"
      ],
      "metadata": {
        "id": "kZWp7pKE1GGJ"
      }
    },
    {
      "cell_type": "code",
      "source": [
        "class KalkulatorSederhana:\n",
        "    def __init__(self, nama=\"Kalkulator\"):\n",
        "        self.nama = nama\n",
        "        print(f\"{self.nama} siap digunakan.\")\n",
        "\n",
        "    def tambah(self, *args):\n",
        "        print(f\"\\nMemanggil metode tambah dengan argumen: {args}\")\n",
        "        if not args:\n",
        "            print(\"Tidak ada angka untuk dijumlahkan.\")\n",
        "            return 0\n",
        "\n",
        "        total = 0\n",
        "        valid_input = True\n",
        "        for angka in args:\n",
        "            if isinstance(angka, (int, float)):\n",
        "                total += angka\n",
        "            else:\n",
        "                print(f\"Peringatan: Argumen '{angka}' bukan angka dan akan diabaikan.\")\n",
        "                valid_input = False\n",
        "\n",
        "        if valid_input:\n",
        "            print(f\"Hasil penjumlahan: {total}\")\n",
        "        else:\n",
        "            print(f\"Hasil penjumlahan (dengan beberapa input diabaikan): {total}\")\n",
        "        return total\n",
        "\n",
        "if __name__ == \"__main__\":\n",
        "    calc = KalkulatorSederhana(\"Calc-01\")\n",
        "    calc.tambah(5, 10)\n",
        "    calc.tambah(2, 3, 5, 10)\n",
        "    calc.tambah(100)\n",
        "    calc.tambah()\n",
        "    calc.tambah(1, 2, \"tiga\", 4, 5.5)\n"
      ],
      "metadata": {
        "colab": {
          "base_uri": "https://localhost:8080/"
        },
        "id": "dU-3o7F21Feg",
        "outputId": "a1017dc0-846d-47cd-856d-22c49108148a"
      },
      "execution_count": 3,
      "outputs": [
        {
          "output_type": "stream",
          "name": "stdout",
          "text": [
            "Calc-01 siap digunakan.\n",
            "\n",
            "Memanggil metode tambah dengan argumen: (5, 10)\n",
            "Hasil penjumlahan: 15\n",
            "\n",
            "Memanggil metode tambah dengan argumen: (2, 3, 5, 10)\n",
            "Hasil penjumlahan: 20\n",
            "\n",
            "Memanggil metode tambah dengan argumen: (100,)\n",
            "Hasil penjumlahan: 100\n",
            "\n",
            "Memanggil metode tambah dengan argumen: ()\n",
            "Tidak ada angka untuk dijumlahkan.\n",
            "\n",
            "Memanggil metode tambah dengan argumen: (1, 2, 'tiga', 4, 5.5)\n",
            "Peringatan: Argumen 'tiga' bukan angka dan akan diabaikan.\n",
            "Hasil penjumlahan (dengan beberapa input diabaikan): 12.5\n"
          ]
        }
      ]
    },
    {
      "cell_type": "markdown",
      "source": [
        "pratikum 4"
      ],
      "metadata": {
        "id": "UJ0vDsGw1kp1"
      }
    },
    {
      "cell_type": "code",
      "source": [
        "class DataProcessor:\n",
        "    def __init__(self, processor_id):\n",
        "        self.processor_id = processor_id\n",
        "        print(f\"Data Processor {self.processor_id} siap.\")\n",
        "\n",
        "    def process(self, *args, **kwargs):\n",
        "        print(f\"\\n--- {self.processor_id} Memproses Data ---\")\n",
        "        if args:\n",
        "            print(\"Argumen Posisi Diterima:\")\n",
        "            for i, arg in enumerate(args):\n",
        "                print(f\"  args[{i}]: {arg} (tipe: {type(arg).__name__})\")\n",
        "        else:\n",
        "            print(\"Tidak ada argumen posisi.\")\n",
        "        if kwargs:\n",
        "            print(\"Argumen Kata Kunci Diterima:\")\n",
        "            for k, v in kwargs.items():\n",
        "                print(f\"  {k}: {v} (tipe: {type(v).__name__})\")\n",
        "        else:\n",
        "            print(\"Tidak ada argumen kata kunci.\")\n",
        "\n",
        "if __name__ == \"__main__\":\n",
        "    dp = DataProcessor(\"DP-001\")\n",
        "    dp.process()\n",
        "    dp.process(100, \"Status OK\", 99.9, False)\n",
        "    dp.process(user=\"admin\", level=5, mode=\"verbose\")\n",
        "    dp.process(\"Task-A\", \"Task-B\", status=\"Running\", priority=\"High\", thread_id=54321)\n",
        "    dp.process([\"A1\", \"B2\"], {\"timeout\": 30}, owner=\"system\", enabled=True)\n"
      ],
      "metadata": {
        "colab": {
          "base_uri": "https://localhost:8080/"
        },
        "id": "eNuEm_fz1mR_",
        "outputId": "bd597fcd-4aac-4b7e-e805-64d872c3f7d4"
      },
      "execution_count": 4,
      "outputs": [
        {
          "output_type": "stream",
          "name": "stdout",
          "text": [
            "Data Processor DP-001 siap.\n",
            "\n",
            "--- DP-001 Memproses Data ---\n",
            "Tidak ada argumen posisi.\n",
            "Tidak ada argumen kata kunci.\n",
            "\n",
            "--- DP-001 Memproses Data ---\n",
            "Argumen Posisi Diterima:\n",
            "  args[0]: 100 (tipe: int)\n",
            "  args[1]: Status OK (tipe: str)\n",
            "  args[2]: 99.9 (tipe: float)\n",
            "  args[3]: False (tipe: bool)\n",
            "Tidak ada argumen kata kunci.\n",
            "\n",
            "--- DP-001 Memproses Data ---\n",
            "Tidak ada argumen posisi.\n",
            "Argumen Kata Kunci Diterima:\n",
            "  user: admin (tipe: str)\n",
            "  level: 5 (tipe: int)\n",
            "  mode: verbose (tipe: str)\n",
            "\n",
            "--- DP-001 Memproses Data ---\n",
            "Argumen Posisi Diterima:\n",
            "  args[0]: Task-A (tipe: str)\n",
            "  args[1]: Task-B (tipe: str)\n",
            "Argumen Kata Kunci Diterima:\n",
            "  status: Running (tipe: str)\n",
            "  priority: High (tipe: str)\n",
            "  thread_id: 54321 (tipe: int)\n",
            "\n",
            "--- DP-001 Memproses Data ---\n",
            "Argumen Posisi Diterima:\n",
            "  args[0]: ['A1', 'B2'] (tipe: list)\n",
            "  args[1]: {'timeout': 30} (tipe: dict)\n",
            "Argumen Kata Kunci Diterima:\n",
            "  owner: system (tipe: str)\n",
            "  enabled: True (tipe: bool)\n"
          ]
        }
      ]
    },
    {
      "cell_type": "markdown",
      "source": [
        "pratikum 5"
      ],
      "metadata": {
        "id": "DriibhQ11qZC"
      }
    },
    {
      "cell_type": "code",
      "source": [
        "import math\n",
        "\n",
        "class Bentuk:\n",
        "    def nama_bentuk(self):\n",
        "        return \"Bentuk Generik\"\n",
        "    def hitung_luas(self):\n",
        "        raise NotImplementedError(\"Subclass harus mengimplementasikan metode ini\")\n",
        "\n",
        "class Lingkaran(Bentuk):\n",
        "    def __init__(self, radius):\n",
        "        self.radius = radius\n",
        "    def nama_bentuk(self):\n",
        "        return \"Lingkaran\"\n",
        "    def hitung_luas(self):\n",
        "        return math.pi * self.radius ** 2\n",
        "\n",
        "class Persegi(Bentuk):\n",
        "    def __init__(self, sisi):\n",
        "        self.sisi = sisi\n",
        "    def nama_bentuk(self):\n",
        "        return \"Persegi\"\n",
        "    def hitung_luas(self):\n",
        "        return self.sisi * self.sisi\n",
        "\n",
        "class TaplakMeja:\n",
        "    def __init__(self, panjang, lebar):\n",
        "        self.panjang = panjang\n",
        "        self.lebar = lebar\n",
        "    def hitung_luas(self):\n",
        "        return self.panjang * self.lebar\n",
        "    def deskripsi(self):\n",
        "        return f\"Taplak Meja {self.panjang}x{self.lebar}\"\n",
        "\n",
        "def tampilkan_info_luas(objek_dengan_luas):\n",
        "    print(\"-\" * 20)\n",
        "    try:\n",
        "        luas = objek_dengan_luas.hitung_luas()\n",
        "        try:\n",
        "            nama = objek_dengan_luas.nama_bentuk()\n",
        "        except AttributeError:\n",
        "            nama = type(objek_dengan_luas).__name__\n",
        "        print(f\"Objek: {nama}\")\n",
        "        print(f\"Luas : {luas:.2f}\")\n",
        "    except Exception as e:\n",
        "        print(f\"Error: {e}\")\n",
        "\n",
        "if __name__ == \"__main__\":\n",
        "    daftar = [Lingkaran(7), Persegi(5), TaplakMeja(1.5, 0.8), Bentuk(), \"Teks\"]\n",
        "    for obj in daftar:\n",
        "        tampilkan_info_luas(obj)\n"
      ],
      "metadata": {
        "colab": {
          "base_uri": "https://localhost:8080/"
        },
        "id": "rpx5WFmZ1sMw",
        "outputId": "ae15cb55-b3ea-4261-f0f0-83dee7ad6e5e"
      },
      "execution_count": 5,
      "outputs": [
        {
          "output_type": "stream",
          "name": "stdout",
          "text": [
            "--------------------\n",
            "Objek: Lingkaran\n",
            "Luas : 153.94\n",
            "--------------------\n",
            "Objek: Persegi\n",
            "Luas : 25.00\n",
            "--------------------\n",
            "Objek: TaplakMeja\n",
            "Luas : 1.20\n",
            "--------------------\n",
            "Error: Subclass harus mengimplementasikan metode ini\n",
            "--------------------\n",
            "Error: 'str' object has no attribute 'hitung_luas'\n"
          ]
        }
      ]
    },
    {
      "cell_type": "markdown",
      "source": [
        "pratikum 6"
      ],
      "metadata": {
        "id": "1ktTllg61vRQ"
      }
    },
    {
      "cell_type": "code",
      "source": [
        "class Burung:\n",
        "    def __init__(self, nama):\n",
        "        self.nama = nama\n",
        "    def terbang(self):\n",
        "        print(f\"{self.nama} terbang dengan cara umum.\")\n",
        "    def bersuara(self):\n",
        "        print(f\"{self.nama} mengeluarkan suara burung.\")\n",
        "\n",
        "class Elang(Burung):\n",
        "    def __init__(self, nama, rentang_sayap):\n",
        "        super().__init__(nama)\n",
        "        self.rentang_sayap = rentang_sayap\n",
        "    def terbang(self):\n",
        "        print(f\"{self.nama} terbang tinggi melayang di angkasa.\")\n",
        "    def bersuara(self):\n",
        "        print(f\"{self.nama} berteriak nyaring!\")\n",
        "    def berburu(self):\n",
        "        print(f\"{self.nama} sedang mencari mangsa dari ketinggian.\")\n",
        "\n",
        "class Pipit(Burung):\n",
        "    def __init__(self, nama, warna_bulu):\n",
        "        super().__init__(nama)\n",
        "        self.warna_bulu = warna_bulu\n",
        "    def terbang(self):\n",
        "        print(f\"{self.nama} terbang cepat di antara pepohonan.\")\n",
        "    def bersuara(self):\n",
        "        print(f\"{self.nama} berkicau merdu: Cit cit!\")\n",
        "    def membangun_sarang(self):\n",
        "        print(f\"{self.nama} sedang mengumpulkan ranting untuk sarang.\")\n",
        "\n",
        "def interaksi_dengan_burung(burung):\n",
        "    print(f\"\\n--- {type(burung).__name__}: {getattr(burung, 'nama', 'Tanpa Nama')} ---\")\n",
        "    if isinstance(burung, Burung):\n",
        "        burung.terbang()\n",
        "        burung.bersuara()\n",
        "        if isinstance(burung, Elang):\n",
        "            burung.berburu()\n",
        "        elif isinstance(burung, Pipit):\n",
        "            burung.membangun_sarang()\n",
        "    else:\n",
        "        print(\"Objek ini bukan burung.\")\n",
        "\n",
        "if __name__ == \"__main__\":\n",
        "    koleksi = [Elang(\"Elang Sumatra\", 1.8), Pipit(\"Pipit Rumah\", \"Abu-abu\"), Burung(\"Merak\"), \"Meong\"]\n",
        "    for makhluk in koleksi:\n",
        "        interaksi_dengan_burung(makhluk)\n"
      ],
      "metadata": {
        "colab": {
          "base_uri": "https://localhost:8080/"
        },
        "id": "Dutw2oiu1wkV",
        "outputId": "85e46269-b75d-4d5a-a46e-cc00976cddab"
      },
      "execution_count": 6,
      "outputs": [
        {
          "output_type": "stream",
          "name": "stdout",
          "text": [
            "\n",
            "--- Elang: Elang Sumatra ---\n",
            "Elang Sumatra terbang tinggi melayang di angkasa.\n",
            "Elang Sumatra berteriak nyaring!\n",
            "Elang Sumatra sedang mencari mangsa dari ketinggian.\n",
            "\n",
            "--- Pipit: Pipit Rumah ---\n",
            "Pipit Rumah terbang cepat di antara pepohonan.\n",
            "Pipit Rumah berkicau merdu: Cit cit!\n",
            "Pipit Rumah sedang mengumpulkan ranting untuk sarang.\n",
            "\n",
            "--- Burung: Merak ---\n",
            "Merak terbang dengan cara umum.\n",
            "Merak mengeluarkan suara burung.\n",
            "\n",
            "--- str: Tanpa Nama ---\n",
            "Objek ini bukan burung.\n"
          ]
        }
      ]
    },
    {
      "cell_type": "markdown",
      "source": [
        "tugas"
      ],
      "metadata": {
        "id": "w2Q7hgFO2JlO"
      }
    },
    {
      "cell_type": "code",
      "source": [
        "class Komputer:\n",
        "    def __init__(self, merk, processor, ram_gb):\n",
        "        self.merk = merk\n",
        "        self.processor = processor\n",
        "        self.ram_gb = ram_gb\n",
        "\n",
        "    def info_spesifikasi(self):\n",
        "        print(f\"Merk: {self.merk}\")\n",
        "        print(f\"Processor: {self.processor}\")\n",
        "        print(f\"RAM: {self.ram_gb} GB\")\n",
        "\n",
        "    def jalankan_aplikasi(self, nama_aplikasi):\n",
        "        print(f\"{self.merk} menjalankan aplikasi: {nama_aplikasi}...\")\n",
        "\n",
        "    def upgrade_ram(self, tambahan_gb, tipe_ram=\"DDR4\"):\n",
        "        self.ram_gb += tambahan_gb\n",
        "        print(f\"RAM {self.merk} diupgrade sebesar {tambahan_gb} GB (Tipe: {tipe_ram}). Total RAM sekarang: {self.ram_gb} GB.\")\n",
        "\n",
        "class Laptop(Komputer):\n",
        "    def __init__(self, merk, processor, ram_gb, ukuran_layar_inch, berat_kg):\n",
        "        super().__init__(merk, processor, ram_gb)\n",
        "        self.ukuran_layar_inch = ukuran_layar_inch\n",
        "        self.berat_kg = berat_kg\n",
        "\n",
        "    def info_spesifikasi(self):\n",
        "        super().info_spesifikasi()\n",
        "        print(f\"Ukuran Layar: {self.ukuran_layar_inch} inch\")\n",
        "        print(f\"Berat: {self.berat_kg} Kg\")\n",
        "\n",
        "class Desktop(Komputer):\n",
        "    def __init__(self, merk, processor, ram_gb, jenis_casing, monitor_external):\n",
        "        super().__init__(merk, processor, ram_gb)\n",
        "        self.jenis_casing = jenis_casing\n",
        "        self.monitor_external = monitor_external\n",
        "\n",
        "    def info_spesifikasi(self):\n",
        "        super().info_spesifikasi()\n",
        "        print(f\"Jenis Casing: {self.jenis_casing}\")\n",
        "        print(f\"Monitor External: {'Ya' if self.monitor_external else 'Tidak'}\")\n",
        "\n",
        "def cetak_semua_spesifikasi(daftar_komputer):\n",
        "    for komputer in daftar_komputer:\n",
        "        komputer.info_spesifikasi()\n",
        "        print(\"-\" * 20)\n",
        "\n",
        "if __name__ == \"__main__\":\n",
        "    lpt = Laptop(\"Asus\", \"Intel i7\", 16, 14.0, 1.4)\n",
        "    dkt = Desktop(\"HP\", \"AMD Ryzen 5\", 8, \"Tower\", True)\n",
        "    cetak_semua_spesifikasi([lpt, dkt])\n",
        "    lpt.upgrade_ram(8)\n",
        "    dkt.upgrade_ram(4, \"DDR5\")\n"
      ],
      "metadata": {
        "colab": {
          "base_uri": "https://localhost:8080/"
        },
        "id": "P_444fCq2KPb",
        "outputId": "3680eb1c-eb2d-42b6-f368-fe43dfd2a617"
      },
      "execution_count": 7,
      "outputs": [
        {
          "output_type": "stream",
          "name": "stdout",
          "text": [
            "Merk: Asus\n",
            "Processor: Intel i7\n",
            "RAM: 16 GB\n",
            "Ukuran Layar: 14.0 inch\n",
            "Berat: 1.4 Kg\n",
            "--------------------\n",
            "Merk: HP\n",
            "Processor: AMD Ryzen 5\n",
            "RAM: 8 GB\n",
            "Jenis Casing: Tower\n",
            "Monitor External: Ya\n",
            "--------------------\n",
            "RAM Asus diupgrade sebesar 8 GB (Tipe: DDR4). Total RAM sekarang: 24 GB.\n",
            "RAM HP diupgrade sebesar 4 GB (Tipe: DDR5). Total RAM sekarang: 12 GB.\n"
          ]
        }
      ]
    }
  ]
}