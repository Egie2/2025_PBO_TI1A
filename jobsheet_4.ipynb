{
  "nbformat": 4,
  "nbformat_minor": 0,
  "metadata": {
    "colab": {
      "provenance": [],
      "authorship_tag": "ABX9TyMJcKsmdi4jEg9FPdI08HHA",
      "include_colab_link": true
    },
    "kernelspec": {
      "name": "python3",
      "display_name": "Python 3"
    },
    "language_info": {
      "name": "python"
    }
  },
  "cells": [
    {
      "cell_type": "markdown",
      "metadata": {
        "id": "view-in-github",
        "colab_type": "text"
      },
      "source": [
        "<a href=\"https://colab.research.google.com/github/Egie2/2025_PBO_TI1A/blob/main/jobsheet_4.ipynb\" target=\"_parent\"><img src=\"https://colab.research.google.com/assets/colab-badge.svg\" alt=\"Open In Colab\"/></a>"
      ]
    },
    {
      "cell_type": "markdown",
      "source": [
        "pratikum 1"
      ],
      "metadata": {
        "id": "EaB6F6d5bASI"
      }
    },
    {
      "cell_type": "code",
      "execution_count": null,
      "metadata": {
        "colab": {
          "base_uri": "https://localhost:8080/"
        },
        "id": "O0VHPyVrZpUQ",
        "outputId": "f3797a12-515c-4ab6-e71c-b1be3171486d"
      },
      "outputs": [
        {
          "output_type": "stream",
          "name": "stdout",
          "text": [
            "Mesin kendaraan (self.merk) dinyalakan.\n",
            "Mesin kendaraan (self.merk) dinyalakan.\n",
            "Merk mobil: Tesla Model S\n"
          ]
        }
      ],
      "source": [
        "# Kelas Induk\n",
        "class Kendaraan:\n",
        "    def __init__(self, merk):\n",
        "        self.merk = merk\n",
        "\n",
        "    def mulai_mesin(self):\n",
        "        print(f\"Mesin kendaraan (self.merk) dinyalakan.\")\n",
        "\n",
        "# Kelas Anak (mewarisi dari Kendaraan)\n",
        "class Mobil (Kendaraan):\n",
        "    def __init__(self, merk, warna):\n",
        "        # Memanggil __init__ kelas induk (akan dibahas di Pratikum 2)\n",
        "        # Untuk sekarang, kita set merk secara manual\n",
        "        self.merk\n",
        "        = merk # Mewarisi 'merk' tapi di-set ulang di sini\n",
        "        self.warna = warna # Atribut khusus Mobil\n",
        "\n",
        "    def info_mobil(self):\n",
        "        print(f\"Ini adalah mobil (self.merk) berwarna (self.warna).\")\n",
        "\n",
        "# --- Kode Utama --- 21:\n",
        "if __name__ == \"__main__\":\n",
        "     mobil_tesla = Mobil(\"Tesla Model S\", \"Merah\")\n",
        "\n",
        "     #Memanggil metode dari kelas anak\n",
        "     mobil_tesla.mulai_mesin()\n",
        "\n",
        "     #Memanggil metode yang diwarisi dari kelas induk\n",
        "     mobil_tesla.mulai_mesin()\n",
        "\n",
        "     # Mengakses atributt yang diiwarisi (dan di-set di anak)\n",
        "     print(f\"Merk mobil: {mobil_tesla.merk}\")"
      ]
    },
    {
      "cell_type": "markdown",
      "source": [
        "pratikum 2"
      ],
      "metadata": {
        "id": "N0Uv9zM3fmmk"
      }
    },
    {
      "cell_type": "code",
      "source": [
        "# Kelas Induk 02:\n",
        "class Person:\n",
        "        def __init__(self, nama, usia):\n",
        "            print(f\"(Memanggil __init__ Person untuk '{nama}')\")\n",
        "            self.nama = nama\n",
        "            self.usia = usia\n",
        "\n",
        "        def perkenalkan_diri(self):\n",
        "          print(f\"Halo, nama saya {self.nama}, usia saya {self.usia} tahun.\")\n",
        "\n",
        "# Kelas Anak (mewarisi dari person)\n",
        "class Student(Person):\n",
        "    def __init__(self, nama, usia, student_id, jurusan):\n",
        "        print(f\"(Memanggil __init__ Student untuk '{nama}')\")\n",
        "         # Memanggil __init__ dari kelas Person untuk inisialisasi nama dan usia\n",
        "        super().__init__(nama, usia)\n",
        "        # Menambahkan atribut khusus Student\n",
        "        self.student_id = student_id\n",
        "        self.jurusan = jurusan\n",
        "        print(f\"(Inisialisasi atribut Student selesai untuk '{nama}')\")\n",
        "\n",
        "    def info_akademik(self):\n",
        "        print(f\"ID  Mahasiswa: {self.student_id}\")\n",
        "        print(f\"Jurusan: {self.jurusan}\")\n",
        "\n",
        "    # Override perkenalkan_diri untuk menambahkan info student\n",
        "    def perkenalkan_diri(self):\n",
        "        super().perkenalkan_diri() # Panggil versi Person\n",
        "        print(f\"Saya adalah mahasiswa dengan ID {self.student_id}, jurusan {self.jurusan}.\")\n",
        "\n",
        "# --- Kode Utama --- 32:\n",
        "if __name__ == \"__main__\":\n",
        "        # Membuat objek Person\n",
        "        dosen = Person(\"Pak Anton\", 45)\n",
        "        print(\"-\" * 20)\n",
        "        dosen.perkenalkan_diri()\n",
        "        print(\"\\n\" + \"=\" * 30 + \"\\n\")\n",
        "\n",
        "        # Membuat objek Student\n",
        "        mahasiswa = Student (\"Dewi\", 20, \"MHS001\", \"Teknik Komputer\")\n",
        "        print(\"-\" * 20)\n",
        "        mahasiswa.perkenalkan_diri() # Panggil versi override di Student\n",
        "        print(\"-\" * 20)\n",
        "        mahasiswa.info_akademik() # Panggil metode khusus Student\n",
        "\n",
        "        # Cek atribut yang diwarisi\n",
        "        print(f\"\\nUsia mahasiswa {mahasiswa.nama}: {mahasiswa.usia}\") # usia diwarisi dari Person"
      ],
      "metadata": {
        "colab": {
          "base_uri": "https://localhost:8080/"
        },
        "id": "Z6zarQ_HfprL",
        "outputId": "715b74e1-85f8-45d9-9c39-794891872ce2"
      },
      "execution_count": null,
      "outputs": [
        {
          "output_type": "stream",
          "name": "stdout",
          "text": [
            "(Memanggil __init__ Person untuk 'Pak Anton')\n",
            "--------------------\n",
            "Halo, nama saya Pak Anton, usia saya 45 tahun.\n",
            "\n",
            "==============================\n",
            "\n",
            "(Memanggil __init__ Student untuk 'Dewi')\n",
            "(Memanggil __init__ Person untuk 'Dewi')\n",
            "(Inisialisasi atribut Student selesai untuk 'Dewi')\n",
            "--------------------\n",
            "Halo, nama saya Dewi, usia saya 20 tahun.\n",
            "Saya adalah mahasiswa dengan ID MHS001, jurusan Teknik Komputer.\n",
            "--------------------\n",
            "ID  Mahasiswa: MHS001\n",
            "Jurusan: Teknik Komputer\n",
            "\n",
            "Usia mahasiswa Dewi: 20\n"
          ]
        }
      ]
    },
    {
      "cell_type": "markdown",
      "source": [
        "pratikum 3"
      ],
      "metadata": {
        "id": "TJ_3LZDomY_K"
      }
    },
    {
      "cell_type": "code",
      "source": [
        "# Kelas Induk\n",
        "class Hewan:\n",
        "    def __init__ (self, nama):\n",
        "        self.nama = nama\n",
        "\n",
        "    def bersuara(self):\n",
        "        print(f\"{self.nama} mengeluarkan suara genetik.\")\n",
        "\n",
        "    def tampilkan_info(self):\n",
        "        print(f'Ini adalah hewan bernama {self.nama}.')\n",
        "\n",
        "# Kelas Anak\n",
        "class Kucing(Hewan):\n",
        "    def __init__(self, nama, ras):\n",
        "        super().__init__(nama) # Panggil init induk\n",
        "        self.ras = ras\n",
        "\n",
        "    # Method Overriding untuk bersuara\n",
        "    def bersuara(self):\n",
        "        print(f\"{self.nama} (Kucing) mengeong: Meow!\")\n",
        "\n",
        "    # Method Overriding untuk tampilkan info, memanggil versi induk\n",
        "    def tampilkan_info(self):\n",
        "        super().tampilkan_info() # Panggil implementasi dari Hewan 25:\n",
        "        print(f\"Ini adalah kucing ras {self.ras}.\") # Tambahkan info spesifik\n",
        "\n",
        "# --- Kode Utama --- 28:\n",
        "if __name__ == \"__main__\":\n",
        "        hewan_umum = Hewan(\"Makhluk\")\n",
        "        kucing_persia = Kucing(\"Puspus\", \"Persia\")\n",
        "\n",
        "        print(\"info Hewan Umum:\")\n",
        "        hewan_umum.tampilkan_info()\n",
        "        hewan_umum.bersuara()\n",
        "        print(\"-\" * 20)\n",
        "\n",
        "        print(\"Info Kucing Persia:\")\n",
        "        kucing_persia.tampilkan_info() # Akan memanggill versi Kucing\n",
        "        kucing_persia.bersuara() # Akan memanggil versi Kucing"
      ],
      "metadata": {
        "colab": {
          "base_uri": "https://localhost:8080/"
        },
        "id": "aHw3g8XvmavW",
        "outputId": "e9dfd13f-26ec-473c-fd78-24a98040128b"
      },
      "execution_count": null,
      "outputs": [
        {
          "output_type": "stream",
          "name": "stdout",
          "text": [
            "info Hewan Umum:\n",
            "Ini adalah hewan bernama Makhluk.\n",
            "Makhluk mengeluarkan suara genetik.\n",
            "--------------------\n",
            "Info Kucing Persia:\n",
            "Ini adalah hewan bernama Puspus.\n",
            "Ini adalah kucing ras Persia.\n",
            "Puspus (Kucing) mengeong: Meow!\n"
          ]
        }
      ]
    },
    {
      "cell_type": "markdown",
      "source": [
        "pratikum 4"
      ],
      "metadata": {
        "id": "cnaQZn8x8RrS"
      }
    },
    {
      "cell_type": "code",
      "source": [
        "# Kelas Induk Level 1\n",
        "class Organisme:\n",
        "    def __init__(self, nama):\n",
        "        self.nama = nama\n",
        "        print(f\"Organisme '{self.nama}' diciptakan.\")\n",
        "\n",
        "    def bernapas(self):\n",
        "        print(f\"{self.nama} sedang bernapas.\")\n",
        "\n",
        "# Kelas Anak Level 1 (mewarisi dari Organisme)\n",
        "class Hewan(Organisme):\n",
        "    def __init__(self, nama, jenis_makanan):\n",
        "        super().__init__(nama) # Panggil init Organisme\n",
        "        self.jenis_makanan = jenis_makanan\n",
        "        print(f\"Hewan '{self.nama}' adalah {self.jenis_makanan}.\")\n",
        "\n",
        "    def bergerak(self):\n",
        "        print(f\"{self.nama} sedang bergerak.\")\n",
        "\n",
        "# Kelas Anak Level 2\n",
        "class Mamalia(Hewan):\n",
        "    def __init__(self, nama, jenis_makanan, jumlah_kaki):\n",
        "        super().__init__(nama, jenis_makanan) # Panggil init Hewan\n",
        "        self.jumlah_kaki = jumlah_kaki\n",
        "        print(f\"Mamalia '{self.nama}' memiliki {self.jumlah_kaki} kaki.\")\n",
        "\n",
        "    def menyusui(self):\n",
        "        print(f\"{self.nama} sedang menyusui.\")\n",
        "\n",
        "# --- Kode Utama --- 31:\n",
        "if __name__ == \"__main__\":\n",
        "        kucing = Mamalia(\"Kucing Persia\", \"Karnivora\", 4)\n",
        "        print(\"-\" * 20)\n",
        "\n",
        "        # Memanggil metode dari kelas Mamalia\n",
        "        kucing.menyusui()\n",
        "\n",
        "        # Memanggil metode yang diwarisi dari kelas Hewan\n",
        "        kucing.bergerak()\n",
        "        print(f\"Jenis makanan: (kucing.jenis_makanan)\")\n",
        "\n",
        "        # Memanggil metodde yang diwarisi dari kelas Organisme\n",
        "        kucing.bernapas()\n",
        "        print(f\"Nama organisme: {kucing.nama}\")"
      ],
      "metadata": {
        "colab": {
          "base_uri": "https://localhost:8080/"
        },
        "id": "OE7msjOy8TW7",
        "outputId": "31f9eb48-469f-4c05-85f6-249904af861d"
      },
      "execution_count": null,
      "outputs": [
        {
          "output_type": "stream",
          "name": "stdout",
          "text": [
            "Organisme 'Kucing Persia' diciptakan.\n",
            "Hewan 'Kucing Persia' adalah Karnivora.\n",
            "Mamalia 'Kucing Persia' memiliki 4 kaki.\n",
            "--------------------\n",
            "Kucing Persia sedang menyusui.\n",
            "Kucing Persia sedang bergerak.\n",
            "Jenis makanan: (kucing.jenis_makanan)\n",
            "Kucing Persia sedang bernapas.\n",
            "Nama organisme: Kucing Persia\n"
          ]
        }
      ]
    },
    {
      "cell_type": "markdown",
      "source": [
        "pratikum 5"
      ],
      "metadata": {
        "id": "IRDhkQre02bi"
      }
    },
    {
      "cell_type": "code",
      "source": [
        "import locale\n",
        "\n",
        "# Set locale ke Indonesia untuk format mata uang\n",
        "try:\n",
        "    locale.setlocale(locale.LC_ALL, 'id_ID.UTF-8')\n",
        "except locale.Error:\n",
        "    print(\"Locale id_ID.UTF-8 tidak tersedia, menggunakan locale default.\")\n",
        "\n",
        "# Fungsi helper untuk format mata uang\n",
        "def format_rupiah(angka):\n",
        "#return locale.currency(angka, grouping=True,symbol='Rp ')\n",
        " return f\"Rp{angka:,.2f}\".replace(\",\",\".\").replace(\".\",\",\",1)\n",
        "\n",
        "# Kelas Induk\n",
        "class Pegawai:\n",
        "    def __init__(self, nama, id_pegawai, gaji_pokok):\n",
        "        self.nama = nama\n",
        "        self.id_pegawai = id_pegawai\n",
        "        self.gaji_pokok = gaji_pokok\n",
        "\n",
        "    def hitung_gaji(self):\n",
        "        # Gaji dasar, bisa di-overrride\n",
        "        return self.gaji_pokok\n",
        "\n",
        "    def tampilkan_info(self):\n",
        "        print(f\"ID: {self.id_pegawai}, nama: {self.nama}\")\n",
        "        print(f\" Gaji Pokok: {format_rupiah(self.gaji_pokok)}\")\n",
        "\n",
        "# Kelas Anak 1\n",
        "class Manager (Pegawai):\n",
        "    def __init__(self, nama, id_pegawai, gaji_pokok, tunjangan_jabatan):\n",
        "      super().__init__ (nama, id_pegawai, gaji_pokok)\n",
        "      self.tunjangan_jabatan = tunjangan_jabatan\n",
        "\n",
        "    # Override hitung_gaji\n",
        "    def hitung_gaji(self):\n",
        "        gaji_total = super().hitung_gaji() + self.tunjangan_jabatan\n",
        "        return gaji_total\n",
        "\n",
        "    # Override tampilkan_info (memanggil versi induk)\n",
        "    def tampilkan_info(self):\n",
        "        print(\"--- Info Manager ---\")\n",
        "        super().tampilkan_info()  # Panggil info dasar dari Pegawai\n",
        "        print(f\" Tunjangan Jabatan: {format_rupiah(self.tunjangan_jabatan)}\")\n",
        "        print(f\" Total Gaji: {format_rupiah(self.hitung_gaji())}\")\n",
        "\n",
        "# Kelas Anak 2\n",
        "class StafTeknis(Pegawai):\n",
        "    def __init__(self, nama, id_pegawai, gaji_pokok, keahlian, bonus_keahlian):\n",
        "        super().__init__(nama, id_pegawai, gaji_pokok)\n",
        "        self.keahlian = keahlian\n",
        "        self.bonus_keahlian = bonus_keahlian\n",
        "\n",
        "    # Override hitung_gaji\n",
        "    def hitung_gaji(self):\n",
        "        gaji_total = super().hitung_gaji() + self.bonus_keahlian\n",
        "        return gaji_total\n",
        "\n",
        "    # Override tampilkan_info (memanggil versi induk)\n",
        "    def tampilkan_info(self):\n",
        "        print(\"--- Info Staf Teknis ---\")\n",
        "        super().tampilkan_info()  # Panggil info dasar dari Pegawai\n",
        "        print(f\" Keahlian: {self.keahlian}\")\n",
        "        print(f\" Bonus Keahlian: {format_rupiah(self.bonus_keahlian)}\")\n",
        "        print(f\" Total Gaji: {format_rupiah(self.hitung_gaji())}\")\n",
        "\n",
        "# --- Kode Utama --- 68:\n",
        "if __name__ == \"__main__\":\n",
        "        manager1 = Manager(\"Budi Santoso\", \"M001\", 10000000, 5000000)\n",
        "        staf1 = StafTeknis(\"Citra Lestari\", \"S001\", 7000000, \"Python Programming\", 1500000)\n",
        "        pegawai_baru = Pegawai(\"Rian\", \"P005\", 5000000)    # Pegawai biasa\n",
        "\n",
        "        print(\"Menampilkan Informasi Pegawai:\")\n",
        "        manager1.tampilkan_info()\n",
        "        print(\"-\" * 30)\n",
        "        staf1.tampilkan_info()\n",
        "        print(\"-\" * 30)\n",
        "\n",
        "        print(\"--- Info Pegawai Baru ---\")\n",
        "        pegawai_baru.tampilkan_info()\n",
        "        print(f\" Total Gaji: {format_rupiah(pegawai_baru.hitung_gaji())}\")\n",
        "# Memanggil versi Pegawai\n",
        "        print(\"-\" * 30)"
      ],
      "metadata": {
        "colab": {
          "base_uri": "https://localhost:8080/"
        },
        "id": "G_bhboiH02Dn",
        "outputId": "7ebb3d84-f2d3-402a-a546-8434a3186db5"
      },
      "execution_count": null,
      "outputs": [
        {
          "output_type": "stream",
          "name": "stdout",
          "text": [
            "Locale id_ID.UTF-8 tidak tersedia, menggunakan locale default.\n",
            "Menampilkan Informasi Pegawai:\n",
            "--- Info Manager ---\n",
            "ID: M001, nama: Budi Santoso\n",
            " Gaji Pokok: Rp10,000.000.00\n",
            " Tunjangan Jabatan: Rp5,000.000.00\n",
            " Total Gaji: Rp15,000.000.00\n",
            "------------------------------\n",
            "--- Info Staf Teknis ---\n",
            "ID: S001, nama: Citra Lestari\n",
            " Gaji Pokok: Rp7,000.000.00\n",
            " Keahlian: Python Programming\n",
            " Bonus Keahlian: Rp1,500.000.00\n",
            " Total Gaji: Rp8,500.000.00\n",
            "------------------------------\n",
            "--- Info Pegawai Baru ---\n",
            "ID: P005, nama: Rian\n",
            " Gaji Pokok: Rp5,000.000.00\n",
            " Total Gaji: Rp5,000.000.00\n",
            "------------------------------\n"
          ]
        }
      ]
    },
    {
      "cell_type": "markdown",
      "source": [
        "pratikum 6"
      ],
      "metadata": {
        "id": "pDbnoGcr9Afw"
      }
    },
    {
      "cell_type": "code",
      "source": [
        "class BentukGeometri:\n",
        "    def __init__(self, nama_bentuk):\n",
        "        self.nama = nama_bentuk\n",
        "    def tampilkan_nama(self):\n",
        "        print(f\"Ini adalah bentuk: {self.nama}\")\n",
        "    def hitung_luas(self):\n",
        "        print(f\"Luas {self.nama} tidak dapat dihitung (generik).\")\n",
        "\n",
        "class PersegiPanjang(BentukGeometri):\n",
        "    def __init__(self, panjang, lebar):\n",
        "        super().__init__(\"Persegi Panjang\")\n",
        "        self.panjang = panjang\n",
        "        self.lebar = lebar\n",
        "    def hitung_luas(self):\n",
        "        luas = self.panjang * self.tinggi\n",
        "        print(f\"Luas {self.nama}: {luas}\")\n",
        "\n",
        "class Segitiga(BentukGeometri):\n",
        "    def __init__(self, alas, tinggi):\n",
        "        super().__init__(\"Segitiga\")\n",
        "        self.alas = alas\n",
        "        self.tinggi = tinggi\n",
        "    def hitung_luas(self):\n",
        "        luas = 0.5 * self.alas * self.tinggi\n",
        "        print(f\"Luas {self.nama}: {luas}\")\n",
        "\n",
        "def proses_bentuk(bentuk):\n",
        "    print(f\"\\nMemproses objek: {type(bentuk)}\")\n",
        "\n",
        "    if isinstance(bentuk, BentukGeometri):\n",
        "        bentuk.tampilkan_nama()\n",
        "        print(\"Objek ini adalah instance dari BentukGeometri (atau turunannya).\")\n",
        "        if isinstance(bentuk, PersegiPanjang):\n",
        "            print(\"-> Objek ini juga instance dari PersegiPanjang.\")\n",
        "        elif isinstance(bentuk, Segitiga):\n",
        "              print(\"-> Objek ini juga instance dari Segitiga.\")\n",
        "    else :\n",
        "        print(\"Objek ini BUKAN instance dari BentukGeometri.\")\n",
        "\n",
        "    if isinstance(bentuk, str):\n",
        "      print(\"Objek ini adalah string.\")\n",
        "\n",
        "# --- Kode Utama --- 45:\n",
        "if __name__ == \"__main__\":\n",
        "        pp = PersegiPanjang(4, 3)\n",
        "        seg = Segitiga(5, 2)\n",
        "        bg = BentukGeometri(\"Lingkaran\") # Contoh lain 49: teks = \"Ini string\"\n",
        "\n",
        "        daftar_objek = [pp, seg, bg, teks]\n",
        "\n",
        "\n",
        "        for obj in daftar_objek:\n",
        "          proses_bentuk(obj)"
      ],
      "metadata": {
        "colab": {
          "base_uri": "https://localhost:8080/"
        },
        "id": "iI8qH70g9Cdm",
        "outputId": "c00df522-9345-4ff8-9f10-b12554f079de"
      },
      "execution_count": null,
      "outputs": [
        {
          "output_type": "stream",
          "name": "stdout",
          "text": [
            "\n",
            "Memproses objek: <class '__main__.PersegiPanjang'>\n",
            "Ini adalah bentuk: Persegi Panjang\n",
            "Objek ini adalah instance dari BentukGeometri (atau turunannya).\n",
            "-> Objek ini juga instance dari PersegiPanjang.\n",
            "\n",
            "Memproses objek: <class '__main__.Segitiga'>\n",
            "Ini adalah bentuk: Segitiga\n",
            "Objek ini adalah instance dari BentukGeometri (atau turunannya).\n",
            "-> Objek ini juga instance dari Segitiga.\n",
            "\n",
            "Memproses objek: <class '__main__.BentukGeometri'>\n",
            "Ini adalah bentuk: Lingkaran\n",
            "Objek ini adalah instance dari BentukGeometri (atau turunannya).\n",
            "\n",
            "Memproses objek: <class 'str'>\n",
            "Objek ini BUKAN instance dari BentukGeometri.\n",
            "Objek ini adalah string.\n"
          ]
        }
      ]
    },
    {
      "cell_type": "markdown",
      "source": [
        "ttugas"
      ],
      "metadata": {
        "id": "7TXWfg0_fYzv"
      }
    },
    {
      "cell_type": "code",
      "source": [
        "# Kelas Induk\n",
        "class Mahasiswa:\n",
        "    def __init__(self, nama, nim, ipk):\n",
        "        self.nama = nama\n",
        "        self.nim = nim\n",
        "        self.ipk = ipk\n",
        "\n",
        "    def tampilkan_info(self):\n",
        "        print(f\"Nama: {self.nama}\")\n",
        "        print(f\"NIM: {self.nim}\")\n",
        "        print(f\"IPK: {self.ipk}\")\n",
        "\n",
        "    def hitung_predikat(self):\n",
        "        if self.ipk >= 3.5:\n",
        "            print(\"Predikat: Dengan Pujian\")\n",
        "        elif self.ipk >= 3.0:\n",
        "            print(\"Predikat: Sangat Memuaskan\")\n",
        "        elif self.ipk >= 2.5:\n",
        "            print(\"Predikat: Memuaskan\")\n",
        "        else:\n",
        "            print(\"Predikat: Cukup\")\n",
        "\n",
        "# Kelas Anak 1\n",
        "class MahasiswaSarjana(Mahasiswa):\n",
        "    def __init__(self, nama, nim, ipk, semester, sks_lulus):\n",
        "        super().__init__(nama, nim, ipk)\n",
        "        self.semester = semester\n",
        "        self.sks_lulus = sks_lulus\n",
        "\n",
        "    def tampilkan_info(self):\n",
        "        super().tampilkan_info()\n",
        "        print(f\"Semester: {self.semester}\")\n",
        "        print(f\"SKS Lulus: {self.sks_lulus}\")\n",
        "\n",
        "# Kelas Anak 2\n",
        "class MahasiswaMagister(Mahasiswa):\n",
        "    def __init__(self, nama, nim, ipk, judul_tesis, nama_pembimbing):\n",
        "        super().__init__(nama, nim, ipk)\n",
        "        self.judul_tesis = judul_tesis\n",
        "        self.nama_pembimbing = nama_pembimbing\n",
        "\n",
        "    def tampilkan_info(self):\n",
        "        super().tampilkan_info()\n",
        "        print(f\"Judul Tesis: {self.judul_tesis}\")\n",
        "        print(f\"Pembimbing: {self.nama_pembimbing}\")\n",
        "\n",
        "    # Override predikat untuk Magister (opsional, contoh berbeda)\n",
        "    def hitung_predikat(self):\n",
        "        if self.ipk >= 3.75:\n",
        "            print(\"Predikat: Dengan Pujian (Magister)\")\n",
        "        elif self.ipk >= 3.25:\n",
        "            print(\"Predikat: Sangat Memuaskan (Magister)\")\n",
        "        else:\n",
        "            print(\"Predikat: Memuaskan (Magister)\")\n",
        "\n",
        "# --- Contoh Penggunaan ---\n",
        "if __name__ == \"__main__\":\n",
        "    print(\"--- Mahasiswa Sarjana ---\")\n",
        "    sarjana = MahasiswaSarjana(\"Egie\", \"4.33.24.0.10\", 3.9, 2, 110)\n",
        "    sarjana.tampilkan_info()\n",
        "    sarjana.hitung_predikat()\n",
        "\n",
        "    print(\"\\n--- Mahasiswa Magister ---\")\n",
        "    magister = MahasiswaMagister(\"Rian\", \"654321\", 3.8, \"Penerapan AI dalam Kesehatan\", \"Dr. Bambang\")\n",
        "    magister.tampilkan_info()\n",
        "    magister.hitung_predikat()\n"
      ],
      "metadata": {
        "id": "NLvfLNBZfZvg",
        "outputId": "d33bce11-703d-4d06-9e01-2e7ee5f3e2c7",
        "colab": {
          "base_uri": "https://localhost:8080/"
        }
      },
      "execution_count": 1,
      "outputs": [
        {
          "output_type": "stream",
          "name": "stdout",
          "text": [
            "--- Mahasiswa Sarjana ---\n",
            "Nama: Egie\n",
            "NIM: 4.33.24.0.10\n",
            "IPK: 3.9\n",
            "Semester: 2\n",
            "SKS Lulus: 110\n",
            "Predikat: Dengan Pujian\n",
            "\n",
            "--- Mahasiswa Magister ---\n",
            "Nama: Rian\n",
            "NIM: 654321\n",
            "IPK: 3.8\n",
            "Judul Tesis: Penerapan AI dalam Kesehatan\n",
            "Pembimbing: Dr. Bambang\n",
            "Predikat: Dengan Pujian (Magister)\n"
          ]
        }
      ]
    }
  ]
}